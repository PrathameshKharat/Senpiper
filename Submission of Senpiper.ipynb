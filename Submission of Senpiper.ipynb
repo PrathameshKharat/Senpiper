{
 "cells": [
  {
   "cell_type": "markdown",
   "id": "cf69bfaa",
   "metadata": {},
   "source": [
    "Question 1 :\n",
    "Write a Regex that matches 4-6 characters of base64 string, appended by . or -\n",
    "and then followed by an email with an alphanumeric username component, with\n",
    "email domains ending with .in or .co.uk"
   ]
  },
  {
   "cell_type": "markdown",
   "id": "8ef420b2",
   "metadata": {},
   "source": [
    "To access 4-6 characters of base64 string:- [0-9A-Za-z+\\/]{4,6}\n",
    "appended by . or -  :- .|- \n",
    "then followed by an email with an alphanumeric username component:- [a-zA-Z0-9]+ \n",
    "email domains ending with .in or .co.uk :- \\.(in|co\\.uk). $"
   ]
  },
  {
   "cell_type": "code",
   "execution_count": null,
   "id": "29829815",
   "metadata": {},
   "outputs": [],
   "source": [
    "import re\n",
    "\n",
    "user_input=input(\"Enter string to check: \")\n",
    "\n",
    "x=re.search(\"^[0-9A-Za-z+\\/]{4,6}-[a-zA-Z0-9]+@\\w+\\.(in|co\\.uk)$ \",user_input)"
   ]
  },
  {
   "cell_type": "code",
   "execution_count": null,
   "id": "daee14cc",
   "metadata": {},
   "outputs": [],
   "source": []
  },
  {
   "cell_type": "markdown",
   "id": "82a877e9",
   "metadata": {},
   "source": [
    "Question 2 :\n",
    "Guesstimate the amount of sugar used daily for serving tea in an average Gurugram company"
   ]
  },
  {
   "cell_type": "code",
   "execution_count": null,
   "id": "da830806",
   "metadata": {},
   "outputs": [],
   "source": [
    "From chinimandi.com, we can conclude that the sugar production in 2019-2021 is 748000 tonnes and we can also conclude that\n",
    "last decade the average of production of sugar is 568000 tonnes. \n",
    "\n",
    "And from gurgaonworkernews.wordpress.com, we can take total numnber of companies in gurugram to be 323 companies which includes\n",
    "industries like Automobile, Textiles, BPO/ Call center, IT, Hardwares, Pharmas, Bio-Gas industries.\n",
    "\n",
    "And if we take a classification of companies as members/employees present in a company, then the classification could look like \n",
    "this :-\n",
    "    Micro      :- 1-6 employees\n",
    "    Small      :- <250 employees \n",
    "    Medium     :- <500 employees\n",
    "    Large      :- <1000 employees\n",
    "    Enterprises:- 1001 or more employees\n",
    "\n",
    "The above data is taken from researchgate.net\n",
    "\n",
    "So from above classification, if we consider from 323 companies there are 50 companies each of Micro, Small and Medium range\n",
    "companies.\n",
    "\n",
    "The population of gurugaon which is refrenced from times-of-india is calculated to be 2,982,928. \n",
    "And the unemployment rate of gurugram in average 33.5% i.e. 999280.88 is unemployed and 1983648 is employed.\n",
    "\n",
    "If we assume that the employed takes 2-3 spoons of sugar on working day and the assumed working days in year are in range\n",
    "of 250-270 days so average is taken as 260 days.\n",
    "\n",
    "If every employee uses 2-3 spoons,\n",
    "\n",
    "If 2 spoons is taken:- \n",
    "    2*1983648  =    3967296 spoons of sugar consumed daily\n",
    "    2*1983648*260=  1031496960 spoons of sugar every year (assumption taken only for working days) is consumed\n",
    "    \n",
    "If 3 spoons is consumed:-\n",
    "    3*1983648    =   5950944 spoons of sugar consumed daily\n",
    "    3*1983648*260=   1547245440 spoons of sugar every year (assumption taken only for working days) is consumed"
   ]
  },
  {
   "cell_type": "code",
   "execution_count": null,
   "id": "0e9b6272",
   "metadata": {},
   "outputs": [],
   "source": [
    "So from above data we can approximately assumed that 1031496960 spoons is consumed, assumed as 2 spoons of sugar consumed \n",
    "and 1547245440 spoons is consumed, assumed as 3 spoons of sugar consumed."
   ]
  },
  {
   "cell_type": "code",
   "execution_count": null,
   "id": "d5afa0d9",
   "metadata": {},
   "outputs": [],
   "source": []
  },
  {
   "cell_type": "markdown",
   "id": "8055eb50",
   "metadata": {},
   "source": [
    "Question 3 :\n",
    "Write a small function for iterating over an array of size 4. Check if the value\n",
    "present at index 3 is a number then function should return true otherwise\n",
    "false."
   ]
  },
  {
   "cell_type": "code",
   "execution_count": 8,
   "id": "6110eb83",
   "metadata": {},
   "outputs": [],
   "source": [
    "#Function used for checking number in string\n",
    "def func(arr):\n",
    "    if (arr[2].isnumeric())==True:\n",
    "        return True\n",
    "    else:\n",
    "        return False"
   ]
  },
  {
   "cell_type": "code",
   "execution_count": 11,
   "id": "e1d08997",
   "metadata": {},
   "outputs": [
    {
     "data": {
      "text/plain": [
       "True"
      ]
     },
     "execution_count": 11,
     "metadata": {},
     "output_type": "execute_result"
    }
   ],
   "source": [
    "func(['dsfds','dscdsc','222','sfdfcsdc'])"
   ]
  },
  {
   "cell_type": "code",
   "execution_count": 17,
   "id": "0c5463de",
   "metadata": {},
   "outputs": [],
   "source": [
    "#Function used for checking number in array at 3rd index\n",
    "def func1(arr):\n",
    "    if (type(arr[2]))==int:\n",
    "        return True\n",
    "    else:\n",
    "        return False"
   ]
  },
  {
   "cell_type": "code",
   "execution_count": 19,
   "id": "4959ffca",
   "metadata": {},
   "outputs": [
    {
     "data": {
      "text/plain": [
       "True"
      ]
     },
     "execution_count": 19,
     "metadata": {},
     "output_type": "execute_result"
    }
   ],
   "source": [
    "func1(['dsfds','dscdsc',222,'sfdfcsdc'])"
   ]
  },
  {
   "cell_type": "code",
   "execution_count": null,
   "id": "fe57f46e",
   "metadata": {},
   "outputs": [],
   "source": []
  },
  {
   "cell_type": "markdown",
   "id": "55bff210",
   "metadata": {},
   "source": [
    "Question 4 :\n",
    "Write a small function for adding 5 days to today’s date of format\n",
    "YYYY-MM-DD and then change the format of date to DD/MM/YYYY"
   ]
  },
  {
   "cell_type": "code",
   "execution_count": 16,
   "id": "2ab18ad9",
   "metadata": {},
   "outputs": [
    {
     "name": "stdout",
     "output_type": "stream",
     "text": [
      "Today's Date :- 2021-10-20\n",
      "25/10/2021\n"
     ]
    }
   ],
   "source": [
    "from datetime import timedelta, date\n",
    "import datetime\n",
    "\n",
    "def Start_date():\n",
    "    a = date.today()\n",
    "    print(f\"Today's Date :- {a}\")\n",
    "    Enddate = a + timedelta(days=5)\n",
    "    return Enddate.strftime(\"%d/%m/%Y\")\n",
    "\n",
    "date = Start_date()\n",
    "print(date)"
   ]
  },
  {
   "cell_type": "code",
   "execution_count": null,
   "id": "eafe9a2f",
   "metadata": {},
   "outputs": [],
   "source": []
  },
  {
   "cell_type": "code",
   "execution_count": null,
   "id": "44a962e0",
   "metadata": {},
   "outputs": [],
   "source": [
    "Questions asked by hr:-"
   ]
  },
  {
   "cell_type": "code",
   "execution_count": null,
   "id": "dfda95e3",
   "metadata": {},
   "outputs": [],
   "source": [
    "-Do you have a job offer in hand currently?. If yes, what is the expected joining date and CTC?\n",
    " No I am currently fresher and currently I am searching for a job.\n",
    "\n",
    "-What is your current residence city and your hometown city/state?\n",
    " I am currently living in Pune, Maharashtra\n",
    "\n",
    "-Would you be open to relocating to NCR after 4-6 months if Covid situation improves and a full-time job offer is extended?\n",
    " Yes I am comfortable in relocating to NCR for job.\n",
    "\n",
    "-What is your expected CTC if a full-time role is given at the end of the internship period?\n",
    " I am expecting around 5 LPA for a full time role."
   ]
  },
  {
   "cell_type": "code",
   "execution_count": null,
   "id": "f26eb0a5",
   "metadata": {},
   "outputs": [],
   "source": []
  }
 ],
 "metadata": {
  "kernelspec": {
   "display_name": "Python 3",
   "language": "python",
   "name": "python3"
  },
  "language_info": {
   "codemirror_mode": {
    "name": "ipython",
    "version": 3
   },
   "file_extension": ".py",
   "mimetype": "text/x-python",
   "name": "python",
   "nbconvert_exporter": "python",
   "pygments_lexer": "ipython3",
   "version": "3.8.8"
  }
 },
 "nbformat": 4,
 "nbformat_minor": 5
}
